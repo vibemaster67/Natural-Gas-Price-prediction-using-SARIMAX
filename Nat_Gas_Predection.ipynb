{
  "nbformat": 4,
  "nbformat_minor": 0,
  "metadata": {
    "colab": {
      "provenance": []
    },
    "kernelspec": {
      "name": "python3",
      "display_name": "Python 3"
    },
    "language_info": {
      "name": "python"
    }
  },
  "cells": [
    {
      "cell_type": "markdown",
      "source": [
        "Task 1\n",
        "# **Investigate and analyze price data**"
      ],
      "metadata": {
        "id": "ZSTMLWJYicjT"
      }
    },
    {
      "cell_type": "code",
      "execution_count": null,
      "metadata": {
        "id": "4QWZ1X3ZQ4JE",
        "colab": {
          "base_uri": "https://localhost:8080/"
        },
        "outputId": "e3adfde5-bbfc-4fb6-962d-f92d73ea8304"
      },
      "outputs": [
        {
          "output_type": "stream",
          "name": "stdout",
          "text": [
            "Requirement already satisfied: pmdarima in /usr/local/lib/python3.10/dist-packages (2.0.4)\n",
            "Requirement already satisfied: joblib>=0.11 in /usr/local/lib/python3.10/dist-packages (from pmdarima) (1.4.2)\n",
            "Requirement already satisfied: Cython!=0.29.18,!=0.29.31,>=0.29 in /usr/local/lib/python3.10/dist-packages (from pmdarima) (3.0.10)\n",
            "Requirement already satisfied: numpy>=1.21.2 in /usr/local/lib/python3.10/dist-packages (from pmdarima) (1.25.2)\n",
            "Requirement already satisfied: pandas>=0.19 in /usr/local/lib/python3.10/dist-packages (from pmdarima) (2.0.3)\n",
            "Requirement already satisfied: scikit-learn>=0.22 in /usr/local/lib/python3.10/dist-packages (from pmdarima) (1.2.2)\n",
            "Requirement already satisfied: scipy>=1.3.2 in /usr/local/lib/python3.10/dist-packages (from pmdarima) (1.11.4)\n",
            "Requirement already satisfied: statsmodels>=0.13.2 in /usr/local/lib/python3.10/dist-packages (from pmdarima) (0.14.2)\n",
            "Requirement already satisfied: urllib3 in /usr/local/lib/python3.10/dist-packages (from pmdarima) (2.0.7)\n",
            "Requirement already satisfied: setuptools!=50.0.0,>=38.6.0 in /usr/local/lib/python3.10/dist-packages (from pmdarima) (71.0.4)\n",
            "Requirement already satisfied: packaging>=17.1 in /usr/local/lib/python3.10/dist-packages (from pmdarima) (24.1)\n",
            "Requirement already satisfied: python-dateutil>=2.8.2 in /usr/local/lib/python3.10/dist-packages (from pandas>=0.19->pmdarima) (2.8.2)\n",
            "Requirement already satisfied: pytz>=2020.1 in /usr/local/lib/python3.10/dist-packages (from pandas>=0.19->pmdarima) (2023.4)\n",
            "Requirement already satisfied: tzdata>=2022.1 in /usr/local/lib/python3.10/dist-packages (from pandas>=0.19->pmdarima) (2024.1)\n",
            "Requirement already satisfied: threadpoolctl>=2.0.0 in /usr/local/lib/python3.10/dist-packages (from scikit-learn>=0.22->pmdarima) (3.5.0)\n",
            "Requirement already satisfied: patsy>=0.5.6 in /usr/local/lib/python3.10/dist-packages (from statsmodels>=0.13.2->pmdarima) (0.5.6)\n",
            "Requirement already satisfied: six in /usr/local/lib/python3.10/dist-packages (from patsy>=0.5.6->statsmodels>=0.13.2->pmdarima) (1.16.0)\n"
          ]
        }
      ],
      "source": [
        "pip install pmdarima\n"
      ]
    },
    {
      "cell_type": "code",
      "source": [
        "import pandas as pd\n",
        "import numpy as np\n",
        "import matplotlib.pyplot as plt\n",
        "\n"
      ],
      "metadata": {
        "id": "g4YePVk9RR04"
      },
      "execution_count": null,
      "outputs": []
    },
    {
      "cell_type": "markdown",
      "source": [
        "Importing Data and initial impressions"
      ],
      "metadata": {
        "id": "uZw7DiMDhY2p"
      }
    },
    {
      "cell_type": "code",
      "source": [
        "df=pd.read_csv('/content/1990-2021.csv',index_col='Dates',parse_dates=True)\n",
        "df=df.dropna()\n",
        "print('Shape of data',df.shape)\n",
        "df.head()"
      ],
      "metadata": {
        "colab": {
          "base_uri": "https://localhost:8080/",
          "height": 255
        },
        "id": "1SANxirER03v",
        "outputId": "273b0f66-befa-455c-a241-5b95d30312fa"
      },
      "execution_count": null,
      "outputs": [
        {
          "output_type": "stream",
          "name": "stdout",
          "text": [
            "Shape of data (59, 1)\n"
          ]
        },
        {
          "output_type": "execute_result",
          "data": {
            "text/plain": [
              "            Prices\n",
              "Dates             \n",
              "2020-10-31    10.1\n",
              "2020-11-30    10.3\n",
              "2020-12-31    11.0\n",
              "2021-01-31    10.9\n",
              "2021-02-28    10.9"
            ],
            "text/html": [
              "\n",
              "  <div id=\"df-6f2d3403-7c9f-40d1-85f7-d9ba2e3a11df\" class=\"colab-df-container\">\n",
              "    <div>\n",
              "<style scoped>\n",
              "    .dataframe tbody tr th:only-of-type {\n",
              "        vertical-align: middle;\n",
              "    }\n",
              "\n",
              "    .dataframe tbody tr th {\n",
              "        vertical-align: top;\n",
              "    }\n",
              "\n",
              "    .dataframe thead th {\n",
              "        text-align: right;\n",
              "    }\n",
              "</style>\n",
              "<table border=\"1\" class=\"dataframe\">\n",
              "  <thead>\n",
              "    <tr style=\"text-align: right;\">\n",
              "      <th></th>\n",
              "      <th>Prices</th>\n",
              "    </tr>\n",
              "    <tr>\n",
              "      <th>Dates</th>\n",
              "      <th></th>\n",
              "    </tr>\n",
              "  </thead>\n",
              "  <tbody>\n",
              "    <tr>\n",
              "      <th>2020-10-31</th>\n",
              "      <td>10.1</td>\n",
              "    </tr>\n",
              "    <tr>\n",
              "      <th>2020-11-30</th>\n",
              "      <td>10.3</td>\n",
              "    </tr>\n",
              "    <tr>\n",
              "      <th>2020-12-31</th>\n",
              "      <td>11.0</td>\n",
              "    </tr>\n",
              "    <tr>\n",
              "      <th>2021-01-31</th>\n",
              "      <td>10.9</td>\n",
              "    </tr>\n",
              "    <tr>\n",
              "      <th>2021-02-28</th>\n",
              "      <td>10.9</td>\n",
              "    </tr>\n",
              "  </tbody>\n",
              "</table>\n",
              "</div>\n",
              "    <div class=\"colab-df-buttons\">\n",
              "\n",
              "  <div class=\"colab-df-container\">\n",
              "    <button class=\"colab-df-convert\" onclick=\"convertToInteractive('df-6f2d3403-7c9f-40d1-85f7-d9ba2e3a11df')\"\n",
              "            title=\"Convert this dataframe to an interactive table.\"\n",
              "            style=\"display:none;\">\n",
              "\n",
              "  <svg xmlns=\"http://www.w3.org/2000/svg\" height=\"24px\" viewBox=\"0 -960 960 960\">\n",
              "    <path d=\"M120-120v-720h720v720H120Zm60-500h600v-160H180v160Zm220 220h160v-160H400v160Zm0 220h160v-160H400v160ZM180-400h160v-160H180v160Zm440 0h160v-160H620v160ZM180-180h160v-160H180v160Zm440 0h160v-160H620v160Z\"/>\n",
              "  </svg>\n",
              "    </button>\n",
              "\n",
              "  <style>\n",
              "    .colab-df-container {\n",
              "      display:flex;\n",
              "      gap: 12px;\n",
              "    }\n",
              "\n",
              "    .colab-df-convert {\n",
              "      background-color: #E8F0FE;\n",
              "      border: none;\n",
              "      border-radius: 50%;\n",
              "      cursor: pointer;\n",
              "      display: none;\n",
              "      fill: #1967D2;\n",
              "      height: 32px;\n",
              "      padding: 0 0 0 0;\n",
              "      width: 32px;\n",
              "    }\n",
              "\n",
              "    .colab-df-convert:hover {\n",
              "      background-color: #E2EBFA;\n",
              "      box-shadow: 0px 1px 2px rgba(60, 64, 67, 0.3), 0px 1px 3px 1px rgba(60, 64, 67, 0.15);\n",
              "      fill: #174EA6;\n",
              "    }\n",
              "\n",
              "    .colab-df-buttons div {\n",
              "      margin-bottom: 4px;\n",
              "    }\n",
              "\n",
              "    [theme=dark] .colab-df-convert {\n",
              "      background-color: #3B4455;\n",
              "      fill: #D2E3FC;\n",
              "    }\n",
              "\n",
              "    [theme=dark] .colab-df-convert:hover {\n",
              "      background-color: #434B5C;\n",
              "      box-shadow: 0px 1px 3px 1px rgba(0, 0, 0, 0.15);\n",
              "      filter: drop-shadow(0px 1px 2px rgba(0, 0, 0, 0.3));\n",
              "      fill: #FFFFFF;\n",
              "    }\n",
              "  </style>\n",
              "\n",
              "    <script>\n",
              "      const buttonEl =\n",
              "        document.querySelector('#df-6f2d3403-7c9f-40d1-85f7-d9ba2e3a11df button.colab-df-convert');\n",
              "      buttonEl.style.display =\n",
              "        google.colab.kernel.accessAllowed ? 'block' : 'none';\n",
              "\n",
              "      async function convertToInteractive(key) {\n",
              "        const element = document.querySelector('#df-6f2d3403-7c9f-40d1-85f7-d9ba2e3a11df');\n",
              "        const dataTable =\n",
              "          await google.colab.kernel.invokeFunction('convertToInteractive',\n",
              "                                                    [key], {});\n",
              "        if (!dataTable) return;\n",
              "\n",
              "        const docLinkHtml = 'Like what you see? Visit the ' +\n",
              "          '<a target=\"_blank\" href=https://colab.research.google.com/notebooks/data_table.ipynb>data table notebook</a>'\n",
              "          + ' to learn more about interactive tables.';\n",
              "        element.innerHTML = '';\n",
              "        dataTable['output_type'] = 'display_data';\n",
              "        await google.colab.output.renderOutput(dataTable, element);\n",
              "        const docLink = document.createElement('div');\n",
              "        docLink.innerHTML = docLinkHtml;\n",
              "        element.appendChild(docLink);\n",
              "      }\n",
              "    </script>\n",
              "  </div>\n",
              "\n",
              "\n",
              "<div id=\"df-8dc07edd-3806-4699-bfbf-71383671517c\">\n",
              "  <button class=\"colab-df-quickchart\" onclick=\"quickchart('df-8dc07edd-3806-4699-bfbf-71383671517c')\"\n",
              "            title=\"Suggest charts\"\n",
              "            style=\"display:none;\">\n",
              "\n",
              "<svg xmlns=\"http://www.w3.org/2000/svg\" height=\"24px\"viewBox=\"0 0 24 24\"\n",
              "     width=\"24px\">\n",
              "    <g>\n",
              "        <path d=\"M19 3H5c-1.1 0-2 .9-2 2v14c0 1.1.9 2 2 2h14c1.1 0 2-.9 2-2V5c0-1.1-.9-2-2-2zM9 17H7v-7h2v7zm4 0h-2V7h2v10zm4 0h-2v-4h2v4z\"/>\n",
              "    </g>\n",
              "</svg>\n",
              "  </button>\n",
              "\n",
              "<style>\n",
              "  .colab-df-quickchart {\n",
              "      --bg-color: #E8F0FE;\n",
              "      --fill-color: #1967D2;\n",
              "      --hover-bg-color: #E2EBFA;\n",
              "      --hover-fill-color: #174EA6;\n",
              "      --disabled-fill-color: #AAA;\n",
              "      --disabled-bg-color: #DDD;\n",
              "  }\n",
              "\n",
              "  [theme=dark] .colab-df-quickchart {\n",
              "      --bg-color: #3B4455;\n",
              "      --fill-color: #D2E3FC;\n",
              "      --hover-bg-color: #434B5C;\n",
              "      --hover-fill-color: #FFFFFF;\n",
              "      --disabled-bg-color: #3B4455;\n",
              "      --disabled-fill-color: #666;\n",
              "  }\n",
              "\n",
              "  .colab-df-quickchart {\n",
              "    background-color: var(--bg-color);\n",
              "    border: none;\n",
              "    border-radius: 50%;\n",
              "    cursor: pointer;\n",
              "    display: none;\n",
              "    fill: var(--fill-color);\n",
              "    height: 32px;\n",
              "    padding: 0;\n",
              "    width: 32px;\n",
              "  }\n",
              "\n",
              "  .colab-df-quickchart:hover {\n",
              "    background-color: var(--hover-bg-color);\n",
              "    box-shadow: 0 1px 2px rgba(60, 64, 67, 0.3), 0 1px 3px 1px rgba(60, 64, 67, 0.15);\n",
              "    fill: var(--button-hover-fill-color);\n",
              "  }\n",
              "\n",
              "  .colab-df-quickchart-complete:disabled,\n",
              "  .colab-df-quickchart-complete:disabled:hover {\n",
              "    background-color: var(--disabled-bg-color);\n",
              "    fill: var(--disabled-fill-color);\n",
              "    box-shadow: none;\n",
              "  }\n",
              "\n",
              "  .colab-df-spinner {\n",
              "    border: 2px solid var(--fill-color);\n",
              "    border-color: transparent;\n",
              "    border-bottom-color: var(--fill-color);\n",
              "    animation:\n",
              "      spin 1s steps(1) infinite;\n",
              "  }\n",
              "\n",
              "  @keyframes spin {\n",
              "    0% {\n",
              "      border-color: transparent;\n",
              "      border-bottom-color: var(--fill-color);\n",
              "      border-left-color: var(--fill-color);\n",
              "    }\n",
              "    20% {\n",
              "      border-color: transparent;\n",
              "      border-left-color: var(--fill-color);\n",
              "      border-top-color: var(--fill-color);\n",
              "    }\n",
              "    30% {\n",
              "      border-color: transparent;\n",
              "      border-left-color: var(--fill-color);\n",
              "      border-top-color: var(--fill-color);\n",
              "      border-right-color: var(--fill-color);\n",
              "    }\n",
              "    40% {\n",
              "      border-color: transparent;\n",
              "      border-right-color: var(--fill-color);\n",
              "      border-top-color: var(--fill-color);\n",
              "    }\n",
              "    60% {\n",
              "      border-color: transparent;\n",
              "      border-right-color: var(--fill-color);\n",
              "    }\n",
              "    80% {\n",
              "      border-color: transparent;\n",
              "      border-right-color: var(--fill-color);\n",
              "      border-bottom-color: var(--fill-color);\n",
              "    }\n",
              "    90% {\n",
              "      border-color: transparent;\n",
              "      border-bottom-color: var(--fill-color);\n",
              "    }\n",
              "  }\n",
              "</style>\n",
              "\n",
              "  <script>\n",
              "    async function quickchart(key) {\n",
              "      const quickchartButtonEl =\n",
              "        document.querySelector('#' + key + ' button');\n",
              "      quickchartButtonEl.disabled = true;  // To prevent multiple clicks.\n",
              "      quickchartButtonEl.classList.add('colab-df-spinner');\n",
              "      try {\n",
              "        const charts = await google.colab.kernel.invokeFunction(\n",
              "            'suggestCharts', [key], {});\n",
              "      } catch (error) {\n",
              "        console.error('Error during call to suggestCharts:', error);\n",
              "      }\n",
              "      quickchartButtonEl.classList.remove('colab-df-spinner');\n",
              "      quickchartButtonEl.classList.add('colab-df-quickchart-complete');\n",
              "    }\n",
              "    (() => {\n",
              "      let quickchartButtonEl =\n",
              "        document.querySelector('#df-8dc07edd-3806-4699-bfbf-71383671517c button');\n",
              "      quickchartButtonEl.style.display =\n",
              "        google.colab.kernel.accessAllowed ? 'block' : 'none';\n",
              "    })();\n",
              "  </script>\n",
              "</div>\n",
              "\n",
              "    </div>\n",
              "  </div>\n"
            ],
            "application/vnd.google.colaboratory.intrinsic+json": {
              "type": "dataframe",
              "variable_name": "df",
              "summary": "{\n  \"name\": \"df\",\n  \"rows\": 59,\n  \"fields\": [\n    {\n      \"column\": \"Dates\",\n      \"properties\": {\n        \"dtype\": \"date\",\n        \"min\": \"2020-10-31 00:00:00\",\n        \"max\": \"2025-08-31 00:00:00\",\n        \"num_unique_values\": 59,\n        \"samples\": [\n          \"2020-10-31 00:00:00\",\n          \"2021-03-31 00:00:00\",\n          \"2023-08-31 00:00:00\"\n        ],\n        \"semantic_type\": \"\",\n        \"description\": \"\"\n      }\n    },\n    {\n      \"column\": \"Prices\",\n      \"properties\": {\n        \"dtype\": \"number\",\n        \"std\": 0.8155133721101792,\n        \"min\": 9.84,\n        \"max\": 12.83782081,\n        \"num_unique_values\": 36,\n        \"samples\": [\n          11.68964579,\n          10.5,\n          12.42259985\n        ],\n        \"semantic_type\": \"\",\n        \"description\": \"\"\n      }\n    }\n  ]\n}"
            }
          },
          "metadata": {},
          "execution_count": 28
        }
      ]
    },
    {
      "cell_type": "code",
      "source": [
        "df['Prices'].plot(figsize=(4,1))\n"
      ],
      "metadata": {
        "id": "T1O-mFJpaeHy",
        "colab": {
          "base_uri": "https://localhost:8080/",
          "height": 174
        },
        "outputId": "5250fcb2-de8f-4930-b5f7-394a7e1f47a6"
      },
      "execution_count": null,
      "outputs": [
        {
          "output_type": "execute_result",
          "data": {
            "text/plain": [
              "<Axes: xlabel='Dates'>"
            ]
          },
          "metadata": {},
          "execution_count": 29
        },
        {
          "output_type": "display_data",
          "data": {
            "text/plain": [
              "<Figure size 400x100 with 1 Axes>"
            ],
            "image/png": "[encoded data removed]"
          },
          "metadata": {}
        }
      ]
    },
    {
      "cell_type": "markdown",
      "source": [
        "Clear Seasonlity and Non Stationarity visible. Running ADF test to confirm."
      ],
      "metadata": {
        "id": "yOkqCmamhL4m"
      }
    },
    {
      "cell_type": "code",
      "source": [
        "from statsmodels.tsa.stattools import adfuller\n",
        "\n",
        "def ad_test(dataset):\n",
        "  deftest = adfuller(dataset, autolag = 'AIC')\n",
        "  print(\"1. ADF: \", deftest[0])\n",
        "  print(\"2. p value: \", deftest[1])\n",
        "  #print(\"3. Num of lags: \", deftest[2])\n",
        "  print(\"4. Num of values used for ADF regression and critical values calculations: \", deftest[3])\n",
        "  print(\"5. Critical values: \")\n",
        "  for key, val in deftest[4].items():\n",
        "    print(\"\\t\",key, \": \", val)"
      ],
      "metadata": {
        "id": "tbqQYAU6hDMD"
      },
      "execution_count": null,
      "outputs": []
    },
    {
      "cell_type": "code",
      "source": [
        "ad_test(df['Prices'])"
      ],
      "metadata": {
        "id": "BIAWJXXWiyFb",
        "colab": {
          "base_uri": "https://localhost:8080/"
        },
        "outputId": "7fe0e05b-ed5a-4f6f-bdc6-8eddeeb05aa0"
      },
      "execution_count": null,
      "outputs": [
        {
          "output_type": "stream",
          "name": "stdout",
          "text": [
            "1. ADF:  -1.4698118457998124\n",
            "2. p value:  0.5483886486756631\n",
            "4. Num of values used for ADF regression and critical values calculations:  48\n",
            "5. Critical values: \n",
            "\t 1% :  -3.5745892596209488\n",
            "\t 5% :  -2.9239543084490744\n",
            "\t 10% :  -2.6000391840277777\n"
          ]
        }
      ]
    },
    {
      "cell_type": "markdown",
      "source": [
        "Differencing to make data **Stationary**"
      ],
      "metadata": {
        "id": "5zWifuQGhmzF"
      }
    },
    {
      "cell_type": "code",
      "source": [
        "df['Prices first difference']=df['Prices']-df['Prices'].shift(1)\n",
        "#df['Seasonal first difference']=df['Prices']-df['Prices'].shift(6)\n",
        "df=df.dropna()\n",
        "df.head()"
      ],
      "metadata": {
        "id": "Y4GiSJq2kmGI",
        "colab": {
          "base_uri": "https://localhost:8080/",
          "height": 237
        },
        "outputId": "6ff12dbc-f77c-42e8-ea56-0bfe507d697d"
      },
      "execution_count": null,
      "outputs": [
        {
          "output_type": "execute_result",
          "data": {
            "text/plain": [
              "            Prices  Prices first difference\n",
              "Dates                                      \n",
              "2020-11-30    10.3                      0.2\n",
              "2020-12-31    11.0                      0.7\n",
              "2021-01-31    10.9                     -0.1\n",
              "2021-02-28    10.9                      0.0\n",
              "2021-03-31    10.9                      0.0"
            ],
            "text/html": [
              "\n",
              "  <div id=\"df-e1905d00-8fe6-4085-a1c7-60bf53a5824b\" class=\"colab-df-container\">\n",
              "    <div>\n",
              "<style scoped>\n",
              "    .dataframe tbody tr th:only-of-type {\n",
              "        vertical-align: middle;\n",
              "    }\n",
              "\n",
              "    .dataframe tbody tr th {\n",
              "        vertical-align: top;\n",
              "    }\n",
              "\n",
              "    .dataframe thead th {\n",
              "        text-align: right;\n",
              "    }\n",
              "</style>\n",
              "<table border=\"1\" class=\"dataframe\">\n",
              "  <thead>\n",
              "    <tr style=\"text-align: right;\">\n",
              "      <th></th>\n",
              "      <th>Prices</th>\n",
              "      <th>Prices first difference</th>\n",
              "    </tr>\n",
              "    <tr>\n",
              "      <th>Dates</th>\n",
              "      <th></th>\n",
              "      <th></th>\n",
              "    </tr>\n",
              "  </thead>\n",
              "  <tbody>\n",
              "    <tr>\n",
              "      <th>2020-11-30</th>\n",
              "      <td>10.3</td>\n",
              "      <td>0.2</td>\n",
              "    </tr>\n",
              "    <tr>\n",
              "      <th>2020-12-31</th>\n",
              "      <td>11.0</td>\n",
              "      <td>0.7</td>\n",
              "    </tr>\n",
              "    <tr>\n",
              "      <th>2021-01-31</th>\n",
              "      <td>10.9</td>\n",
              "      <td>-0.1</td>\n",
              "    </tr>\n",
              "    <tr>\n",
              "      <th>2021-02-28</th>\n",
              "      <td>10.9</td>\n",
              "      <td>0.0</td>\n",
              "    </tr>\n",
              "    <tr>\n",
              "      <th>2021-03-31</th>\n",
              "      <td>10.9</td>\n",
              "      <td>0.0</td>\n",
              "    </tr>\n",
              "  </tbody>\n",
              "</table>\n",
              "</div>\n",
              "    <div class=\"colab-df-buttons\">\n",
              "\n",
              "  <div class=\"colab-df-container\">\n",
              "    <button class=\"colab-df-convert\" onclick=\"convertToInteractive('df-e1905d00-8fe6-4085-a1c7-60bf53a5824b')\"\n",
              "            title=\"Convert this dataframe to an interactive table.\"\n",
              "            style=\"display:none;\">\n",
              "\n",
              "  <svg xmlns=\"http://www.w3.org/2000/svg\" height=\"24px\" viewBox=\"0 -960 960 960\">\n",
              "    <path d=\"M120-120v-720h720v720H120Zm60-500h600v-160H180v160Zm220 220h160v-160H400v160Zm0 220h160v-160H400v160ZM180-400h160v-160H180v160Zm440 0h160v-160H620v160ZM180-180h160v-160H180v160Zm440 0h160v-160H620v160Z\"/>\n",
              "  </svg>\n",
              "    </button>\n",
              "\n",
              "  <style>\n",
              "    .colab-df-container {\n",
              "      display:flex;\n",
              "      gap: 12px;\n",
              "    }\n",
              "\n",
              "    .colab-df-convert {\n",
              "      background-color: #E8F0FE;\n",
              "      border: none;\n",
              "      border-radius: 50%;\n",
              "      cursor: pointer;\n",
              "      display: none;\n",
              "      fill: #1967D2;\n",
              "      height: 32px;\n",
              "      padding: 0 0 0 0;\n",
              "      width: 32px;\n",
              "    }\n",
              "\n",
              "    .colab-df-convert:hover {\n",
              "      background-color: #E2EBFA;\n",
              "      box-shadow: 0px 1px 2px rgba(60, 64, 67, 0.3), 0px 1px 3px 1px rgba(60, 64, 67, 0.15);\n",
              "      fill: #174EA6;\n",
              "    }\n",
              "\n",
              "    .colab-df-buttons div {\n",
              "      margin-bottom: 4px;\n",
              "    }\n",
              "\n",
              "    [theme=dark] .colab-df-convert {\n",
              "      background-color: #3B4455;\n",
              "      fill: #D2E3FC;\n",
              "    }\n",
              "\n",
              "    [theme=dark] .colab-df-convert:hover {\n",
              "      background-color: #434B5C;\n",
              "      box-shadow: 0px 1px 3px 1px rgba(0, 0, 0, 0.15);\n",
              "      filter: drop-shadow(0px 1px 2px rgba(0, 0, 0, 0.3));\n",
              "      fill: #FFFFFF;\n",
              "    }\n",
              "  </style>\n",
              "\n",
              "    <script>\n",
              "      const buttonEl =\n",
              "        document.querySelector('#df-e1905d00-8fe6-4085-a1c7-60bf53a5824b button.colab-df-convert');\n",
              "      buttonEl.style.display =\n",
              "        google.colab.kernel.accessAllowed ? 'block' : 'none';\n",
              "\n",
              "      async function convertToInteractive(key) {\n",
              "        const element = document.querySelector('#df-e1905d00-8fe6-4085-a1c7-60bf53a5824b');\n",
              "        const dataTable =\n",
              "          await google.colab.kernel.invokeFunction('convertToInteractive',\n",
              "                                                    [key], {});\n",
              "        if (!dataTable) return;\n",
              "\n",
              "        const docLinkHtml = 'Like what you see? Visit the ' +\n",
              "          '<a target=\"_blank\" href=https://colab.research.google.com/notebooks/data_table.ipynb>data table notebook</a>'\n",
              "          + ' to learn more about interactive tables.';\n",
              "        element.innerHTML = '';\n",
              "        dataTable['output_type'] = 'display_data';\n",
              "        await google.colab.output.renderOutput(dataTable, element);\n",
              "        const docLink = document.createElement('div');\n",
              "        docLink.innerHTML = docLinkHtml;\n",
              "        element.appendChild(docLink);\n",
              "      }\n",
              "    </script>\n",
              "  </div>\n",
              "\n",
              "\n",
              "<div id=\"df-d9ca34e2-0cfd-4833-98ea-facfc936fa18\">\n",
              "  <button class=\"colab-df-quickchart\" onclick=\"quickchart('df-d9ca34e2-0cfd-4833-98ea-facfc936fa18')\"\n",
              "            title=\"Suggest charts\"\n",
              "            style=\"display:none;\">\n",
              "\n",
              "<svg xmlns=\"http://www.w3.org/2000/svg\" height=\"24px\"viewBox=\"0 0 24 24\"\n",
              "     width=\"24px\">\n",
              "    <g>\n",
              "        <path d=\"M19 3H5c-1.1 0-2 .9-2 2v14c0 1.1.9 2 2 2h14c1.1 0 2-.9 2-2V5c0-1.1-.9-2-2-2zM9 17H7v-7h2v7zm4 0h-2V7h2v10zm4 0h-2v-4h2v4z\"/>\n",
              "    </g>\n",
              "</svg>\n",
              "  </button>\n",
              "\n",
              "<style>\n",
              "  .colab-df-quickchart {\n",
              "      --bg-color: #E8F0FE;\n",
              "      --fill-color: #1967D2;\n",
              "      --hover-bg-color: #E2EBFA;\n",
              "      --hover-fill-color: #174EA6;\n",
              "      --disabled-fill-color: #AAA;\n",
              "      --disabled-bg-color: #DDD;\n",
              "  }\n",
              "\n",
              "  [theme=dark] .colab-df-quickchart {\n",
              "      --bg-color: #3B4455;\n",
              "      --fill-color: #D2E3FC;\n",
              "      --hover-bg-color: #434B5C;\n",
              "      --hover-fill-color: #FFFFFF;\n",
              "      --disabled-bg-color: #3B4455;\n",
              "      --disabled-fill-color: #666;\n",
              "  }\n",
              "\n",
              "  .colab-df-quickchart {\n",
              "    background-color: var(--bg-color);\n",
              "    border: none;\n",
              "    border-radius: 50%;\n",
              "    cursor: pointer;\n",
              "    display: none;\n",
              "    fill: var(--fill-color);\n",
              "    height: 32px;\n",
              "    padding: 0;\n",
              "    width: 32px;\n",
              "  }\n",
              "\n",
              "  .colab-df-quickchart:hover {\n",
              "    background-color: var(--hover-bg-color);\n",
              "    box-shadow: 0 1px 2px rgba(60, 64, 67, 0.3), 0 1px 3px 1px rgba(60, 64, 67, 0.15);\n",
              "    fill: var(--button-hover-fill-color);\n",
              "  }\n",
              "\n",
              "  .colab-df-quickchart-complete:disabled,\n",
              "  .colab-df-quickchart-complete:disabled:hover {\n",
              "    background-color: var(--disabled-bg-color);\n",
              "    fill: var(--disabled-fill-color);\n",
              "    box-shadow: none;\n",
              "  }\n",
              "\n",
              "  .colab-df-spinner {\n",
              "    border: 2px solid var(--fill-color);\n",
              "    border-color: transparent;\n",
              "    border-bottom-color: var(--fill-color);\n",
              "    animation:\n",
              "      spin 1s steps(1) infinite;\n",
              "  }\n",
              "\n",
              "  @keyframes spin {\n",
              "    0% {\n",
              "      border-color: transparent;\n",
              "      border-bottom-color: var(--fill-color);\n",
              "      border-left-color: var(--fill-color);\n",
              "    }\n",
              "    20% {\n",
              "      border-color: transparent;\n",
              "      border-left-color: var(--fill-color);\n",
              "      border-top-color: var(--fill-color);\n",
              "    }\n",
              "    30% {\n",
              "      border-color: transparent;\n",
              "      border-left-color: var(--fill-color);\n",
              "      border-top-color: var(--fill-color);\n",
              "      border-right-color: var(--fill-color);\n",
              "    }\n",
              "    40% {\n",
              "      border-color: transparent;\n",
              "      border-right-color: var(--fill-color);\n",
              "      border-top-color: var(--fill-color);\n",
              "    }\n",
              "    60% {\n",
              "      border-color: transparent;\n",
              "      border-right-color: var(--fill-color);\n",
              "    }\n",
              "    80% {\n",
              "      border-color: transparent;\n",
              "      border-right-color: var(--fill-color);\n",
              "      border-bottom-color: var(--fill-color);\n",
              "    }\n",
              "    90% {\n",
              "      border-color: transparent;\n",
              "      border-bottom-color: var(--fill-color);\n",
              "    }\n",
              "  }\n",
              "</style>\n",
              "\n",
              "  <script>\n",
              "    async function quickchart(key) {\n",
              "      const quickchartButtonEl =\n",
              "        document.querySelector('#' + key + ' button');\n",
              "      quickchartButtonEl.disabled = true;  // To prevent multiple clicks.\n",
              "      quickchartButtonEl.classList.add('colab-df-spinner');\n",
              "      try {\n",
              "        const charts = await google.colab.kernel.invokeFunction(\n",
              "            'suggestCharts', [key], {});\n",
              "      } catch (error) {\n",
              "        console.error('Error during call to suggestCharts:', error);\n",
              "      }\n",
              "      quickchartButtonEl.classList.remove('colab-df-spinner');\n",
              "      quickchartButtonEl.classList.add('colab-df-quickchart-complete');\n",
              "    }\n",
              "    (() => {\n",
              "      let quickchartButtonEl =\n",
              "        document.querySelector('#df-d9ca34e2-0cfd-4833-98ea-facfc936fa18 button');\n",
              "      quickchartButtonEl.style.display =\n",
              "        google.colab.kernel.accessAllowed ? 'block' : 'none';\n",
              "    })();\n",
              "  </script>\n",
              "</div>\n",
              "\n",
              "    </div>\n",
              "  </div>\n"
            ],
            "application/vnd.google.colaboratory.intrinsic+json": {
              "type": "dataframe",
              "variable_name": "df",
              "summary": "{\n  \"name\": \"df\",\n  \"rows\": 58,\n  \"fields\": [\n    {\n      \"column\": \"Dates\",\n      \"properties\": {\n        \"dtype\": \"date\",\n        \"min\": \"2020-11-30 00:00:00\",\n        \"max\": \"2025-08-31 00:00:00\",\n        \"num_unique_values\": 58,\n        \"samples\": [\n          \"2020-11-30 00:00:00\",\n          \"2021-04-30 00:00:00\",\n          \"2023-09-30 00:00:00\"\n        ],\n        \"semantic_type\": \"\",\n        \"description\": \"\"\n      }\n    },\n    {\n      \"column\": \"Prices\",\n      \"properties\": {\n        \"dtype\": \"number\",\n        \"std\": 0.804225543578914,\n        \"min\": 9.84,\n        \"max\": 12.83782081,\n        \"num_unique_values\": 36,\n        \"samples\": [\n          11.68964579,\n          10.5,\n          12.42259985\n        ],\n        \"semantic_type\": \"\",\n        \"description\": \"\"\n      }\n    },\n    {\n      \"column\": \"Prices first difference\",\n      \"properties\": {\n        \"dtype\": \"number\",\n        \"std\": 0.3791918555091328,\n        \"min\": -0.8000000000000007,\n        \"max\": 1.0999999999999996,\n        \"num_unique_values\": 37,\n        \"samples\": [\n          0.5,\n          -0.29999999999999893,\n          -0.5\n        ],\n        \"semantic_type\": \"\",\n        \"description\": \"\"\n      }\n    }\n  ]\n}"
            }
          },
          "metadata": {},
          "execution_count": 32
        }
      ]
    },
    {
      "source": [
        "# @title Prices first difference\n",
        "\n",
        "from matplotlib import pyplot as plt\n",
        "df['Prices first difference'].plot(kind='line', figsize=(8, 4), title='Prices first difference')\n",
        "plt.gca().spines[['top', 'right']].set_visible(False)"
      ],
      "cell_type": "code",
      "execution_count": null,
      "outputs": [
        {
          "output_type": "display_data",
          "data": {
            "text/plain": [
              "<Figure size 800x400 with 1 Axes>"
            ],
            "image/png": "[encoded data removed]"
          },
          "metadata": {}
        }
      ],
      "metadata": {
        "colab": {
          "base_uri": "https://localhost:8080/",
          "height": 410
        },
        "id": "SRjU8WTkhxOC",
        "outputId": "1f6f3efc-3cdd-46bf-fea6-9f3bb3140ee7"
      }
    },
    {
      "source": [
        "# @title Prices\n",
        "\n",
        "from matplotlib import pyplot as plt\n",
        "df['Prices'].plot(kind='line', figsize=(8, 4), title='Prices')\n",
        "plt.gca().spines[['top', 'right']].set_visible(False)"
      ],
      "cell_type": "code",
      "execution_count": null,
      "outputs": [
        {
          "output_type": "display_data",
          "data": {
            "text/plain": [
              "<Figure size 800x400 with 1 Axes>"
            ],
            "image/png": "[encoded data removed]"
          },
          "metadata": {}
        }
      ],
      "metadata": {
        "cellView": "form",
        "colab": {
          "base_uri": "https://localhost:8080/",
          "height": 410
        },
        "id": "hFCyQ7BchtCD",
        "outputId": "40059dd5-1791-4bf2-8b6a-537983a84c5d"
      }
    },
    {
      "cell_type": "code",
      "source": [
        "#df['Seasonal first difference'].plot(figsize=(4,1))"
      ],
      "metadata": {
        "id": "cN-XBwllJ0oq"
      },
      "execution_count": null,
      "outputs": []
    },
    {
      "cell_type": "code",
      "source": [
        "df['Prices first difference'].plot(figsize=(4,1))"
      ],
      "metadata": {
        "id": "J1E7Kz7Ol2a_",
        "colab": {
          "base_uri": "https://localhost:8080/",
          "height": 174
        },
        "outputId": "542e1af2-26ce-435c-9c5b-d27bba3c721b"
      },
      "execution_count": null,
      "outputs": [
        {
          "output_type": "execute_result",
          "data": {
            "text/plain": [
              "<Axes: xlabel='Dates'>"
            ]
          },
          "metadata": {},
          "execution_count": 36
        },
        {
          "output_type": "display_data",
          "data": {
            "text/plain": [
              "<Figure size 400x100 with 1 Axes>"
            ],
            "image/png": "[encoded data removed]"
          },
          "metadata": {}
        }
      ]
    },
    {
      "cell_type": "markdown",
      "source": [
        "Confirming Stationarity using ADF test."
      ],
      "metadata": {
        "id": "cdSvdSCZhzbs"
      }
    },
    {
      "cell_type": "code",
      "source": [
        "ad_test(df['Prices first difference'])"
      ],
      "metadata": {
        "id": "AdSdEvQumAjo",
        "colab": {
          "base_uri": "https://localhost:8080/"
        },
        "outputId": "2ceb9b64-2072-4423-80c6-816fa7f18739"
      },
      "execution_count": null,
      "outputs": [
        {
          "output_type": "stream",
          "name": "stdout",
          "text": [
            "1. ADF:  -7.234208434549554\n",
            "2. p value:  1.9587474243100448e-10\n",
            "4. Num of values used for ADF regression and critical values calculations:  48\n",
            "5. Critical values: \n",
            "\t 1% :  -3.5745892596209488\n",
            "\t 5% :  -2.9239543084490744\n",
            "\t 10% :  -2.6000391840277777\n"
          ]
        }
      ]
    },
    {
      "cell_type": "code",
      "source": [
        "from pmdarima import auto_arima\n",
        "import warnings\n",
        "warnings.filterwarnings(\"ignore\")"
      ],
      "metadata": {
        "id": "KxNm47sLq8Wv"
      },
      "execution_count": null,
      "outputs": []
    },
    {
      "cell_type": "markdown",
      "source": [
        "Determining best model for making predictions."
      ],
      "metadata": {
        "id": "aUrPnkgAh9bF"
      }
    },
    {
      "cell_type": "code",
      "source": [
        "stepwise_fit = auto_arima(df['Prices first difference'], trace=True,\n",
        "                          suppress_warnings=True)\n",
        "stepwise_fit.summary()"
      ],
      "metadata": {
        "id": "CosEuRI8sTrn",
        "colab": {
          "base_uri": "https://localhost:8080/",
          "height": 561
        },
        "outputId": "8ba001e4-bc84-415c-95a4-b5399988528f"
      },
      "execution_count": null,
      "outputs": [
        {
          "output_type": "stream",
          "name": "stdout",
          "text": [
            "Performing stepwise search to minimize aic\n",
            " ARIMA(2,0,2)(0,0,0)[0] intercept   : AIC=inf, Time=1.23 sec\n",
            " ARIMA(0,0,0)(0,0,0)[0] intercept   : AIC=55.101, Time=0.10 sec\n",
            " ARIMA(1,0,0)(0,0,0)[0] intercept   : AIC=56.265, Time=0.12 sec\n",
            " ARIMA(0,0,1)(0,0,0)[0] intercept   : AIC=56.404, Time=0.21 sec\n",
            " ARIMA(0,0,0)(0,0,0)[0]             : AIC=53.409, Time=0.08 sec\n",
            " ARIMA(1,0,1)(0,0,0)[0] intercept   : AIC=58.033, Time=0.34 sec\n",
            "\n",
            "Best model:  ARIMA(0,0,0)(0,0,0)[0]          \n",
            "Total fit time: 2.114 seconds\n"
          ]
        },
        {
          "output_type": "execute_result",
          "data": {
            "text/plain": [
              "<class 'statsmodels.iolib.summary.Summary'>\n",
              "\"\"\"\n",
              "                               SARIMAX Results                                \n",
              "==============================================================================\n",
              "Dep. Variable:                      y   No. Observations:                   58\n",
              "Model:                        SARIMAX   Log Likelihood                 -25.704\n",
              "Date:                Fri, 26 Jul 2024   AIC                             53.409\n",
              "Time:                        09:20:24   BIC                             55.469\n",
              "Sample:                    11-30-2020   HQIC                            54.212\n",
              "                         - 08-31-2025                                         \n",
              "Covariance Type:                  opg                                         \n",
              "==============================================================================\n",
              "                 coef    std err          z      P>|z|      [0.025      0.975]\n",
              "------------------------------------------------------------------------------\n",
              "sigma2         0.1421      0.026      5.509      0.000       0.092       0.193\n",
              "===================================================================================\n",
              "Ljung-Box (L1) (Q):                   0.88   Jarque-Bera (JB):                 0.11\n",
              "Prob(Q):                              0.35   Prob(JB):                         0.95\n",
              "Heteroskedasticity (H):               0.67   Skew:                             0.10\n",
              "Prob(H) (two-sided):                  0.40   Kurtosis:                         3.06\n",
              "===================================================================================\n",
              "\n",
              "Warnings:\n",
              "[1] Covariance matrix calculated using the outer product of gradients (complex-step).\n",
              "\"\"\""
            ],
            "text/html": [
              "<table class=\"simpletable\">\n",
              "<caption>SARIMAX Results</caption>\n",
              "<tr>\n",
              "  <th>Dep. Variable:</th>           <td>y</td>        <th>  No. Observations:  </th>   <td>58</td>   \n",
              "</tr>\n",
              "<tr>\n",
              "  <th>Model:</th>                <td>SARIMAX</td>     <th>  Log Likelihood     </th> <td>-25.704</td>\n",
              "</tr>\n",
              "<tr>\n",
              "  <th>Date:</th>            <td>Fri, 26 Jul 2024</td> <th>  AIC                </th> <td>53.409</td> \n",
              "</tr>\n",
              "<tr>\n",
              "  <th>Time:</th>                <td>09:20:24</td>     <th>  BIC                </th> <td>55.469</td> \n",
              "</tr>\n",
              "<tr>\n",
              "  <th>Sample:</th>             <td>11-30-2020</td>    <th>  HQIC               </th> <td>54.212</td> \n",
              "</tr>\n",
              "<tr>\n",
              "  <th></th>                   <td>- 08-31-2025</td>   <th>                     </th>    <td> </td>   \n",
              "</tr>\n",
              "<tr>\n",
              "  <th>Covariance Type:</th>        <td>opg</td>       <th>                     </th>    <td> </td>   \n",
              "</tr>\n",
              "</table>\n",
              "<table class=\"simpletable\">\n",
              "<tr>\n",
              "     <td></td>       <th>coef</th>     <th>std err</th>      <th>z</th>      <th>P>|z|</th>  <th>[0.025</th>    <th>0.975]</th>  \n",
              "</tr>\n",
              "<tr>\n",
              "  <th>sigma2</th> <td>    0.1421</td> <td>    0.026</td> <td>    5.509</td> <td> 0.000</td> <td>    0.092</td> <td>    0.193</td>\n",
              "</tr>\n",
              "</table>\n",
              "<table class=\"simpletable\">\n",
              "<tr>\n",
              "  <th>Ljung-Box (L1) (Q):</th>     <td>0.88</td> <th>  Jarque-Bera (JB):  </th> <td>0.11</td>\n",
              "</tr>\n",
              "<tr>\n",
              "  <th>Prob(Q):</th>                <td>0.35</td> <th>  Prob(JB):          </th> <td>0.95</td>\n",
              "</tr>\n",
              "<tr>\n",
              "  <th>Heteroskedasticity (H):</th> <td>0.67</td> <th>  Skew:              </th> <td>0.10</td>\n",
              "</tr>\n",
              "<tr>\n",
              "  <th>Prob(H) (two-sided):</th>    <td>0.40</td> <th>  Kurtosis:          </th> <td>3.06</td>\n",
              "</tr>\n",
              "</table><br/><br/>Warnings:<br/>[1] Covariance matrix calculated using the outer product of gradients (complex-step)."
            ],
            "text/latex": "\\begin{center}\n\\begin{tabular}{lclc}\n\\toprule\n\\textbf{Dep. Variable:}          &        y         & \\textbf{  No. Observations:  } &     58      \\\\\n\\textbf{Model:}                  &     SARIMAX      & \\textbf{  Log Likelihood     } &  -25.704    \\\\\n\\textbf{Date:}                   & Fri, 26 Jul 2024 & \\textbf{  AIC                } &   53.409    \\\\\n\\textbf{Time:}                   &     09:20:24     & \\textbf{  BIC                } &   55.469    \\\\\n\\textbf{Sample:}                 &    11-30-2020    & \\textbf{  HQIC               } &   54.212    \\\\\n\\textbf{}                        &   - 08-31-2025   & \\textbf{                     } &             \\\\\n\\textbf{Covariance Type:}        &       opg        & \\textbf{                     } &             \\\\\n\\bottomrule\n\\end{tabular}\n\\begin{tabular}{lcccccc}\n                & \\textbf{coef} & \\textbf{std err} & \\textbf{z} & \\textbf{P$> |$z$|$} & \\textbf{[0.025} & \\textbf{0.975]}  \\\\\n\\midrule\n\\textbf{sigma2} &       0.1421  &        0.026     &     5.509  &         0.000        &        0.092    &        0.193     \\\\\n\\bottomrule\n\\end{tabular}\n\\begin{tabular}{lclc}\n\\textbf{Ljung-Box (L1) (Q):}     & 0.88 & \\textbf{  Jarque-Bera (JB):  } & 0.11  \\\\\n\\textbf{Prob(Q):}                & 0.35 & \\textbf{  Prob(JB):          } & 0.95  \\\\\n\\textbf{Heteroskedasticity (H):} & 0.67 & \\textbf{  Skew:              } & 0.10  \\\\\n\\textbf{Prob(H) (two-sided):}    & 0.40 & \\textbf{  Kurtosis:          } & 3.06  \\\\\n\\bottomrule\n\\end{tabular}\n%\\caption{SARIMAX Results}\n\\end{center}\n\nWarnings: \\newline\n [1] Covariance matrix calculated using the outer product of gradients (complex-step)."
          },
          "metadata": {},
          "execution_count": 39
        }
      ]
    },
    {
      "cell_type": "code",
      "source": [
        "from statsmodels.tsa.arima.model import ARIMA"
      ],
      "metadata": {
        "id": "cGbFn8NPtoho"
      },
      "execution_count": null,
      "outputs": []
    },
    {
      "cell_type": "markdown",
      "source": [
        "# **Trainig** **Predections**"
      ],
      "metadata": {
        "id": "6m-pmv0hTnmz"
      }
    },
    {
      "cell_type": "code",
      "source": [
        "print(df.shape)\n",
        "train=df.iloc[:-23]\n",
        "test=df.iloc[-23:]\n",
        "print(train.shape,test.shape)"
      ],
      "metadata": {
        "id": "NI-3Z3Yyt6EV",
        "colab": {
          "base_uri": "https://localhost:8080/"
        },
        "outputId": "f27e4b37-64d2-44c6-9d3c-156b5559fef1"
      },
      "execution_count": null,
      "outputs": [
        {
          "output_type": "stream",
          "name": "stdout",
          "text": [
            "(58, 2)\n",
            "(35, 2) (23, 2)\n"
          ]
        }
      ]
    },
    {
      "cell_type": "code",
      "source": [
        "from statsmodels.tsa.arima.estimators.statespace import SARIMAX\n",
        "\n",
        "model=SARIMAX(train['Prices'],order=(2,0,2),seasonal_order=(2,0,2,12))\n",
        "model=model.fit()\n",
        "model.summary()"
      ],
      "metadata": {
        "id": "N5P3Kt0SvA2g",
        "colab": {
          "base_uri": "https://localhost:8080/",
          "height": 558
        },
        "outputId": "472e046e-8670-4388-e2e6-21432d849caf"
      },
      "execution_count": null,
      "outputs": [
        {
          "output_type": "execute_result",
          "data": {
            "text/plain": [
              "<class 'statsmodels.iolib.summary.Summary'>\n",
              "\"\"\"\n",
              "                                     SARIMAX Results                                      \n",
              "==========================================================================================\n",
              "Dep. Variable:                             Prices   No. Observations:                   35\n",
              "Model:             SARIMAX(2, 0, 2)x(2, 0, 2, 12)   Log Likelihood                 -13.694\n",
              "Date:                            Fri, 26 Jul 2024   AIC                             45.387\n",
              "Time:                                    09:20:27   BIC                             59.385\n",
              "Sample:                                11-30-2020   HQIC                            50.219\n",
              "                                     - 09-30-2023                                         \n",
              "Covariance Type:                              opg                                         \n",
              "==============================================================================\n",
              "                 coef    std err          z      P>|z|      [0.025      0.975]\n",
              "------------------------------------------------------------------------------\n",
              "ar.L1          0.0299      0.140      0.214      0.830      -0.244       0.303\n",
              "ar.L2          0.9610      0.139      6.917      0.000       0.689       1.233\n",
              "ma.L1          0.5860      0.525      1.117      0.264      -0.443       1.615\n",
              "ma.L2         -0.1974      0.424     -0.466      0.642      -1.029       0.634\n",
              "ar.S.L12      -0.0569     32.935     -0.002      0.999     -64.607      64.494\n",
              "ar.S.L24       0.8503     32.406      0.026      0.979     -62.664      64.365\n",
              "ma.S.L12       1.0372    276.752      0.004      0.997    -541.386     543.461\n",
              "ma.S.L24       0.9068    109.275      0.008      0.993    -213.269     215.082\n",
              "sigma2         0.0151      3.283      0.005      0.996      -6.419       6.450\n",
              "===================================================================================\n",
              "Ljung-Box (L1) (Q):                   0.05   Jarque-Bera (JB):                 0.95\n",
              "Prob(Q):                              0.82   Prob(JB):                         0.62\n",
              "Heteroskedasticity (H):               1.41   Skew:                             0.33\n",
              "Prob(H) (two-sided):                  0.56   Kurtosis:                         3.46\n",
              "===================================================================================\n",
              "\n",
              "Warnings:\n",
              "[1] Covariance matrix calculated using the outer product of gradients (complex-step).\n",
              "\"\"\""
            ],
            "text/html": [
              "<table class=\"simpletable\">\n",
              "<caption>SARIMAX Results</caption>\n",
              "<tr>\n",
              "  <th>Dep. Variable:</th>               <td>Prices</td>             <th>  No. Observations:  </th>   <td>35</td>   \n",
              "</tr>\n",
              "<tr>\n",
              "  <th>Model:</th>           <td>SARIMAX(2, 0, 2)x(2, 0, 2, 12)</td> <th>  Log Likelihood     </th> <td>-13.694</td>\n",
              "</tr>\n",
              "<tr>\n",
              "  <th>Date:</th>                   <td>Fri, 26 Jul 2024</td>        <th>  AIC                </th> <td>45.387</td> \n",
              "</tr>\n",
              "<tr>\n",
              "  <th>Time:</th>                       <td>09:20:27</td>            <th>  BIC                </th> <td>59.385</td> \n",
              "</tr>\n",
              "<tr>\n",
              "  <th>Sample:</th>                    <td>11-30-2020</td>           <th>  HQIC               </th> <td>50.219</td> \n",
              "</tr>\n",
              "<tr>\n",
              "  <th></th>                          <td>- 09-30-2023</td>          <th>                     </th>    <td> </td>   \n",
              "</tr>\n",
              "<tr>\n",
              "  <th>Covariance Type:</th>               <td>opg</td>              <th>                     </th>    <td> </td>   \n",
              "</tr>\n",
              "</table>\n",
              "<table class=\"simpletable\">\n",
              "<tr>\n",
              "      <td></td>        <th>coef</th>     <th>std err</th>      <th>z</th>      <th>P>|z|</th>  <th>[0.025</th>    <th>0.975]</th>  \n",
              "</tr>\n",
              "<tr>\n",
              "  <th>ar.L1</th>    <td>    0.0299</td> <td>    0.140</td> <td>    0.214</td> <td> 0.830</td> <td>   -0.244</td> <td>    0.303</td>\n",
              "</tr>\n",
              "<tr>\n",
              "  <th>ar.L2</th>    <td>    0.9610</td> <td>    0.139</td> <td>    6.917</td> <td> 0.000</td> <td>    0.689</td> <td>    1.233</td>\n",
              "</tr>\n",
              "<tr>\n",
              "  <th>ma.L1</th>    <td>    0.5860</td> <td>    0.525</td> <td>    1.117</td> <td> 0.264</td> <td>   -0.443</td> <td>    1.615</td>\n",
              "</tr>\n",
              "<tr>\n",
              "  <th>ma.L2</th>    <td>   -0.1974</td> <td>    0.424</td> <td>   -0.466</td> <td> 0.642</td> <td>   -1.029</td> <td>    0.634</td>\n",
              "</tr>\n",
              "<tr>\n",
              "  <th>ar.S.L12</th> <td>   -0.0569</td> <td>   32.935</td> <td>   -0.002</td> <td> 0.999</td> <td>  -64.607</td> <td>   64.494</td>\n",
              "</tr>\n",
              "<tr>\n",
              "  <th>ar.S.L24</th> <td>    0.8503</td> <td>   32.406</td> <td>    0.026</td> <td> 0.979</td> <td>  -62.664</td> <td>   64.365</td>\n",
              "</tr>\n",
              "<tr>\n",
              "  <th>ma.S.L12</th> <td>    1.0372</td> <td>  276.752</td> <td>    0.004</td> <td> 0.997</td> <td> -541.386</td> <td>  543.461</td>\n",
              "</tr>\n",
              "<tr>\n",
              "  <th>ma.S.L24</th> <td>    0.9068</td> <td>  109.275</td> <td>    0.008</td> <td> 0.993</td> <td> -213.269</td> <td>  215.082</td>\n",
              "</tr>\n",
              "<tr>\n",
              "  <th>sigma2</th>   <td>    0.0151</td> <td>    3.283</td> <td>    0.005</td> <td> 0.996</td> <td>   -6.419</td> <td>    6.450</td>\n",
              "</tr>\n",
              "</table>\n",
              "<table class=\"simpletable\">\n",
              "<tr>\n",
              "  <th>Ljung-Box (L1) (Q):</th>     <td>0.05</td> <th>  Jarque-Bera (JB):  </th> <td>0.95</td>\n",
              "</tr>\n",
              "<tr>\n",
              "  <th>Prob(Q):</th>                <td>0.82</td> <th>  Prob(JB):          </th> <td>0.62</td>\n",
              "</tr>\n",
              "<tr>\n",
              "  <th>Heteroskedasticity (H):</th> <td>1.41</td> <th>  Skew:              </th> <td>0.33</td>\n",
              "</tr>\n",
              "<tr>\n",
              "  <th>Prob(H) (two-sided):</th>    <td>0.56</td> <th>  Kurtosis:          </th> <td>3.46</td>\n",
              "</tr>\n",
              "</table><br/><br/>Warnings:<br/>[1] Covariance matrix calculated using the outer product of gradients (complex-step)."
            ],
            "text/latex": "\\begin{center}\n\\begin{tabular}{lclc}\n\\toprule\n\\textbf{Dep. Variable:}          &             Prices             & \\textbf{  No. Observations:  } &     35      \\\\\n\\textbf{Model:}                  & SARIMAX(2, 0, 2)x(2, 0, 2, 12) & \\textbf{  Log Likelihood     } &  -13.694    \\\\\n\\textbf{Date:}                   &        Fri, 26 Jul 2024        & \\textbf{  AIC                } &   45.387    \\\\\n\\textbf{Time:}                   &            09:20:27            & \\textbf{  BIC                } &   59.385    \\\\\n\\textbf{Sample:}                 &           11-30-2020           & \\textbf{  HQIC               } &   50.219    \\\\\n\\textbf{}                        &          - 09-30-2023          & \\textbf{                     } &             \\\\\n\\textbf{Covariance Type:}        &              opg               & \\textbf{                     } &             \\\\\n\\bottomrule\n\\end{tabular}\n\\begin{tabular}{lcccccc}\n                  & \\textbf{coef} & \\textbf{std err} & \\textbf{z} & \\textbf{P$> |$z$|$} & \\textbf{[0.025} & \\textbf{0.975]}  \\\\\n\\midrule\n\\textbf{ar.L1}    &       0.0299  &        0.140     &     0.214  &         0.830        &       -0.244    &        0.303     \\\\\n\\textbf{ar.L2}    &       0.9610  &        0.139     &     6.917  &         0.000        &        0.689    &        1.233     \\\\\n\\textbf{ma.L1}    &       0.5860  &        0.525     &     1.117  &         0.264        &       -0.443    &        1.615     \\\\\n\\textbf{ma.L2}    &      -0.1974  &        0.424     &    -0.466  &         0.642        &       -1.029    &        0.634     \\\\\n\\textbf{ar.S.L12} &      -0.0569  &       32.935     &    -0.002  &         0.999        &      -64.607    &       64.494     \\\\\n\\textbf{ar.S.L24} &       0.8503  &       32.406     &     0.026  &         0.979        &      -62.664    &       64.365     \\\\\n\\textbf{ma.S.L12} &       1.0372  &      276.752     &     0.004  &         0.997        &     -541.386    &      543.461     \\\\\n\\textbf{ma.S.L24} &       0.9068  &      109.275     &     0.008  &         0.993        &     -213.269    &      215.082     \\\\\n\\textbf{sigma2}   &       0.0151  &        3.283     &     0.005  &         0.996        &       -6.419    &        6.450     \\\\\n\\bottomrule\n\\end{tabular}\n\\begin{tabular}{lclc}\n\\textbf{Ljung-Box (L1) (Q):}     & 0.05 & \\textbf{  Jarque-Bera (JB):  } & 0.95  \\\\\n\\textbf{Prob(Q):}                & 0.82 & \\textbf{  Prob(JB):          } & 0.62  \\\\\n\\textbf{Heteroskedasticity (H):} & 1.41 & \\textbf{  Skew:              } & 0.33  \\\\\n\\textbf{Prob(H) (two-sided):}    & 0.56 & \\textbf{  Kurtosis:          } & 3.46  \\\\\n\\bottomrule\n\\end{tabular}\n%\\caption{SARIMAX Results}\n\\end{center}\n\nWarnings: \\newline\n [1] Covariance matrix calculated using the outer product of gradients (complex-step)."
          },
          "metadata": {},
          "execution_count": 42
        }
      ]
    },
    {
      "cell_type": "code",
      "source": [
        "start=len(train)\n",
        "end=len(train)+len(test)-1\n",
        "pred=model.predict(start=start,end=end,typ='levels').rename('ARIMA Predictions')\n",
        "pred.plot(legend=True)\n",
        "test['Prices'].plot(legend=True)"
      ],
      "metadata": {
        "id": "H7OtavRcyQwu",
        "colab": {
          "base_uri": "https://localhost:8080/",
          "height": 483
        },
        "outputId": "bc8fc12e-54d1-4606-ee76-6a1d3d63ef2a"
      },
      "execution_count": null,
      "outputs": [
        {
          "output_type": "execute_result",
          "data": {
            "text/plain": [
              "<Axes: xlabel='Dates'>"
            ]
          },
          "metadata": {},
          "execution_count": 43
        },
        {
          "output_type": "display_data",
          "data": {
            "text/plain": [
              "<Figure size 640x480 with 1 Axes>"
            ],
            "image/png": "[encoded data removed]"
          },
          "metadata": {}
        }
      ]
    },
    {
      "cell_type": "markdown",
      "source": [
        "Testing the RMS error"
      ],
      "metadata": {
        "id": "yWPeLXCAdjZk"
      }
    },
    {
      "cell_type": "code",
      "source": [
        "test['Prices'].mean()"
      ],
      "metadata": {
        "id": "yvva9JnudoF1",
        "colab": {
          "base_uri": "https://localhost:8080/"
        },
        "outputId": "6dc5c936-f899-40ca-facb-e16d20c6b211"
      },
      "execution_count": null,
      "outputs": [
        {
          "output_type": "execute_result",
          "data": {
            "text/plain": [
              "12.12145655043478"
            ]
          },
          "metadata": {},
          "execution_count": 44
        }
      ]
    },
    {
      "cell_type": "code",
      "source": [
        "from sklearn.metrics import mean_squared_error\n",
        "from math import sqrt\n",
        "rmse=sqrt(mean_squared_error(pred,test['Prices']))\n",
        "print(rmse)"
      ],
      "metadata": {
        "id": "q_u2QmEmd2t-",
        "colab": {
          "base_uri": "https://localhost:8080/"
        },
        "outputId": "2c12377e-c0b0-4e8f-dc33-8bddae0f3348"
      },
      "execution_count": null,
      "outputs": [
        {
          "output_type": "stream",
          "name": "stdout",
          "text": [
            "0.3638037403363305\n"
          ]
        }
      ]
    },
    {
      "cell_type": "markdown",
      "source": [
        "RMSE indicates Good Fit."
      ],
      "metadata": {
        "id": "6AcowvxDiPFp"
      }
    },
    {
      "cell_type": "markdown",
      "source": [
        "# **Future** **Predictions**"
      ],
      "metadata": {
        "id": "bs44FUfvUZtW"
      }
    },
    {
      "cell_type": "code",
      "source": [
        "print(df.shape)\n",
        "train=df.iloc[:-1]\n",
        "test=df.iloc[-12:]\n",
        "print(train.shape,test.shape)"
      ],
      "metadata": {
        "id": "uZ_WY0IjR4JL",
        "colab": {
          "base_uri": "https://localhost:8080/"
        },
        "outputId": "f9cd7654-bf17-4054-ac71-b49dd9178480"
      },
      "execution_count": null,
      "outputs": [
        {
          "output_type": "stream",
          "name": "stdout",
          "text": [
            "(58, 2)\n",
            "(57, 2) (12, 2)\n"
          ]
        }
      ]
    },
    {
      "cell_type": "code",
      "source": [
        "from statsmodels.tsa.arima.estimators.statespace import SARIMAX\n",
        "\n",
        "model=SARIMAX(train['Prices'],order=(2,0,2),seasonal_order=(2,0,2,12))\n",
        "model=model.fit()\n",
        "model.summary()"
      ],
      "metadata": {
        "id": "ksOXzWZ_SOql",
        "colab": {
          "base_uri": "https://localhost:8080/",
          "height": 558
        },
        "outputId": "1af6990e-16c3-42e9-cdf9-16b841e3dcc1"
      },
      "execution_count": null,
      "outputs": [
        {
          "output_type": "execute_result",
          "data": {
            "text/plain": [
              "<class 'statsmodels.iolib.summary.Summary'>\n",
              "\"\"\"\n",
              "                                     SARIMAX Results                                      \n",
              "==========================================================================================\n",
              "Dep. Variable:                             Prices   No. Observations:                   57\n",
              "Model:             SARIMAX(2, 0, 2)x(2, 0, 2, 12)   Log Likelihood                  -8.603\n",
              "Date:                            Fri, 26 Jul 2024   AIC                             35.205\n",
              "Time:                                    09:20:32   BIC                             53.593\n",
              "Sample:                                11-30-2020   HQIC                            42.351\n",
              "                                     - 07-31-2025                                         \n",
              "Covariance Type:                              opg                                         \n",
              "==============================================================================\n",
              "                 coef    std err          z      P>|z|      [0.025      0.975]\n",
              "------------------------------------------------------------------------------\n",
              "ar.L1          0.0305      0.302      0.101      0.920      -0.561       0.622\n",
              "ar.L2          0.9619      0.301      3.198      0.001       0.372       1.551\n",
              "ma.L1          0.4476      0.260      1.722      0.085      -0.062       0.957\n",
              "ma.L2         -0.5300      0.190     -2.792      0.005      -0.902      -0.158\n",
              "ar.S.L12       0.2899      2.012      0.144      0.885      -3.654       4.234\n",
              "ar.S.L24       0.6968      1.978      0.352      0.725      -3.180       4.573\n",
              "ma.S.L12       0.2283     15.821      0.014      0.988     -30.780      31.237\n",
              "ma.S.L24      -0.7406     11.570     -0.064      0.949     -23.418      21.937\n",
              "sigma2         0.0394      0.544      0.072      0.942      -1.026       1.105\n",
              "===================================================================================\n",
              "Ljung-Box (L1) (Q):                   0.79   Jarque-Bera (JB):                 2.01\n",
              "Prob(Q):                              0.37   Prob(JB):                         0.37\n",
              "Heteroskedasticity (H):               0.21   Skew:                             0.44\n",
              "Prob(H) (two-sided):                  0.00   Kurtosis:                         3.29\n",
              "===================================================================================\n",
              "\n",
              "Warnings:\n",
              "[1] Covariance matrix calculated using the outer product of gradients (complex-step).\n",
              "\"\"\""
            ],
            "text/html": [
              "<table class=\"simpletable\">\n",
              "<caption>SARIMAX Results</caption>\n",
              "<tr>\n",
              "  <th>Dep. Variable:</th>               <td>Prices</td>             <th>  No. Observations:  </th>   <td>57</td>  \n",
              "</tr>\n",
              "<tr>\n",
              "  <th>Model:</th>           <td>SARIMAX(2, 0, 2)x(2, 0, 2, 12)</td> <th>  Log Likelihood     </th> <td>-8.603</td>\n",
              "</tr>\n",
              "<tr>\n",
              "  <th>Date:</th>                   <td>Fri, 26 Jul 2024</td>        <th>  AIC                </th> <td>35.205</td>\n",
              "</tr>\n",
              "<tr>\n",
              "  <th>Time:</th>                       <td>09:20:32</td>            <th>  BIC                </th> <td>53.593</td>\n",
              "</tr>\n",
              "<tr>\n",
              "  <th>Sample:</th>                    <td>11-30-2020</td>           <th>  HQIC               </th> <td>42.351</td>\n",
              "</tr>\n",
              "<tr>\n",
              "  <th></th>                          <td>- 07-31-2025</td>          <th>                     </th>    <td> </td>  \n",
              "</tr>\n",
              "<tr>\n",
              "  <th>Covariance Type:</th>               <td>opg</td>              <th>                     </th>    <td> </td>  \n",
              "</tr>\n",
              "</table>\n",
              "<table class=\"simpletable\">\n",
              "<tr>\n",
              "      <td></td>        <th>coef</th>     <th>std err</th>      <th>z</th>      <th>P>|z|</th>  <th>[0.025</th>    <th>0.975]</th>  \n",
              "</tr>\n",
              "<tr>\n",
              "  <th>ar.L1</th>    <td>    0.0305</td> <td>    0.302</td> <td>    0.101</td> <td> 0.920</td> <td>   -0.561</td> <td>    0.622</td>\n",
              "</tr>\n",
              "<tr>\n",
              "  <th>ar.L2</th>    <td>    0.9619</td> <td>    0.301</td> <td>    3.198</td> <td> 0.001</td> <td>    0.372</td> <td>    1.551</td>\n",
              "</tr>\n",
              "<tr>\n",
              "  <th>ma.L1</th>    <td>    0.4476</td> <td>    0.260</td> <td>    1.722</td> <td> 0.085</td> <td>   -0.062</td> <td>    0.957</td>\n",
              "</tr>\n",
              "<tr>\n",
              "  <th>ma.L2</th>    <td>   -0.5300</td> <td>    0.190</td> <td>   -2.792</td> <td> 0.005</td> <td>   -0.902</td> <td>   -0.158</td>\n",
              "</tr>\n",
              "<tr>\n",
              "  <th>ar.S.L12</th> <td>    0.2899</td> <td>    2.012</td> <td>    0.144</td> <td> 0.885</td> <td>   -3.654</td> <td>    4.234</td>\n",
              "</tr>\n",
              "<tr>\n",
              "  <th>ar.S.L24</th> <td>    0.6968</td> <td>    1.978</td> <td>    0.352</td> <td> 0.725</td> <td>   -3.180</td> <td>    4.573</td>\n",
              "</tr>\n",
              "<tr>\n",
              "  <th>ma.S.L12</th> <td>    0.2283</td> <td>   15.821</td> <td>    0.014</td> <td> 0.988</td> <td>  -30.780</td> <td>   31.237</td>\n",
              "</tr>\n",
              "<tr>\n",
              "  <th>ma.S.L24</th> <td>   -0.7406</td> <td>   11.570</td> <td>   -0.064</td> <td> 0.949</td> <td>  -23.418</td> <td>   21.937</td>\n",
              "</tr>\n",
              "<tr>\n",
              "  <th>sigma2</th>   <td>    0.0394</td> <td>    0.544</td> <td>    0.072</td> <td> 0.942</td> <td>   -1.026</td> <td>    1.105</td>\n",
              "</tr>\n",
              "</table>\n",
              "<table class=\"simpletable\">\n",
              "<tr>\n",
              "  <th>Ljung-Box (L1) (Q):</th>     <td>0.79</td> <th>  Jarque-Bera (JB):  </th> <td>2.01</td>\n",
              "</tr>\n",
              "<tr>\n",
              "  <th>Prob(Q):</th>                <td>0.37</td> <th>  Prob(JB):          </th> <td>0.37</td>\n",
              "</tr>\n",
              "<tr>\n",
              "  <th>Heteroskedasticity (H):</th> <td>0.21</td> <th>  Skew:              </th> <td>0.44</td>\n",
              "</tr>\n",
              "<tr>\n",
              "  <th>Prob(H) (two-sided):</th>    <td>0.00</td> <th>  Kurtosis:          </th> <td>3.29</td>\n",
              "</tr>\n",
              "</table><br/><br/>Warnings:<br/>[1] Covariance matrix calculated using the outer product of gradients (complex-step)."
            ],
            "text/latex": "\\begin{center}\n\\begin{tabular}{lclc}\n\\toprule\n\\textbf{Dep. Variable:}          &             Prices             & \\textbf{  No. Observations:  } &     57      \\\\\n\\textbf{Model:}                  & SARIMAX(2, 0, 2)x(2, 0, 2, 12) & \\textbf{  Log Likelihood     } &   -8.603    \\\\\n\\textbf{Date:}                   &        Fri, 26 Jul 2024        & \\textbf{  AIC                } &   35.205    \\\\\n\\textbf{Time:}                   &            09:20:32            & \\textbf{  BIC                } &   53.593    \\\\\n\\textbf{Sample:}                 &           11-30-2020           & \\textbf{  HQIC               } &   42.351    \\\\\n\\textbf{}                        &          - 07-31-2025          & \\textbf{                     } &             \\\\\n\\textbf{Covariance Type:}        &              opg               & \\textbf{                     } &             \\\\\n\\bottomrule\n\\end{tabular}\n\\begin{tabular}{lcccccc}\n                  & \\textbf{coef} & \\textbf{std err} & \\textbf{z} & \\textbf{P$> |$z$|$} & \\textbf{[0.025} & \\textbf{0.975]}  \\\\\n\\midrule\n\\textbf{ar.L1}    &       0.0305  &        0.302     &     0.101  &         0.920        &       -0.561    &        0.622     \\\\\n\\textbf{ar.L2}    &       0.9619  &        0.301     &     3.198  &         0.001        &        0.372    &        1.551     \\\\\n\\textbf{ma.L1}    &       0.4476  &        0.260     &     1.722  &         0.085        &       -0.062    &        0.957     \\\\\n\\textbf{ma.L2}    &      -0.5300  &        0.190     &    -2.792  &         0.005        &       -0.902    &       -0.158     \\\\\n\\textbf{ar.S.L12} &       0.2899  &        2.012     &     0.144  &         0.885        &       -3.654    &        4.234     \\\\\n\\textbf{ar.S.L24} &       0.6968  &        1.978     &     0.352  &         0.725        &       -3.180    &        4.573     \\\\\n\\textbf{ma.S.L12} &       0.2283  &       15.821     &     0.014  &         0.988        &      -30.780    &       31.237     \\\\\n\\textbf{ma.S.L24} &      -0.7406  &       11.570     &    -0.064  &         0.949        &      -23.418    &       21.937     \\\\\n\\textbf{sigma2}   &       0.0394  &        0.544     &     0.072  &         0.942        &       -1.026    &        1.105     \\\\\n\\bottomrule\n\\end{tabular}\n\\begin{tabular}{lclc}\n\\textbf{Ljung-Box (L1) (Q):}     & 0.79 & \\textbf{  Jarque-Bera (JB):  } & 2.01  \\\\\n\\textbf{Prob(Q):}                & 0.37 & \\textbf{  Prob(JB):          } & 0.37  \\\\\n\\textbf{Heteroskedasticity (H):} & 0.21 & \\textbf{  Skew:              } & 0.44  \\\\\n\\textbf{Prob(H) (two-sided):}    & 0.00 & \\textbf{  Kurtosis:          } & 3.29  \\\\\n\\bottomrule\n\\end{tabular}\n%\\caption{SARIMAX Results}\n\\end{center}\n\nWarnings: \\newline\n [1] Covariance matrix calculated using the outer product of gradients (complex-step)."
          },
          "metadata": {},
          "execution_count": 47
        }
      ]
    },
    {
      "cell_type": "code",
      "source": [
        "start=len(train)\n",
        "end=len(train)+len(test)-1\n",
        "pred=model.predict(start=start,end=end,typ='levels').rename('ARIMA Predictions')\n",
        "pred.plot(legend=True)\n",
        "test['Prices'].plot(legend=True)"
      ],
      "metadata": {
        "id": "mk2f1kUsSdqs",
        "colab": {
          "base_uri": "https://localhost:8080/",
          "height": 483
        },
        "outputId": "7b0bd07a-873c-4076-926f-7306f6d33ed2"
      },
      "execution_count": null,
      "outputs": [
        {
          "output_type": "execute_result",
          "data": {
            "text/plain": [
              "<Axes: xlabel='Dates'>"
            ]
          },
          "metadata": {},
          "execution_count": 48
        },
        {
          "output_type": "display_data",
          "data": {
            "text/plain": [
              "<Figure size 640x480 with 1 Axes>"
            ],
            "image/png": "[encoded data removed]"
          },
          "metadata": {}
        }
      ]
    },
    {
      "cell_type": "code",
      "source": [],
      "metadata": {
        "id": "xBy5MTI3pkxM"
      },
      "execution_count": null,
      "outputs": []
    },
    {
      "cell_type": "markdown",
      "source": [
        "# **Contract pricing script**"
      ],
      "metadata": {
        "id": "v8Edjgs2xnIH"
      }
    },
    {
      "cell_type": "code",
      "source": [
        "def read_csv_data(file_path):\n",
        "    data = {}\n",
        "    with open(file_path, 'r') as file:\n",
        "        reader = csv.DictReader(file)\n",
        "        for row in reader:\n",
        "            date_str = row['Dates']\n",
        "            date = parser.parse(date_str)\n",
        "            data[date] = float(row['Prices'])\n",
        "    return data\n",
        "\n",
        "\n",
        "def calculate_storage_months(injection_date, withdrawal_date):\n",
        "    return ((withdrawal_date.year - injection_date.year) * 12 + withdrawal_date.month) - (injection_date.month)\n",
        "\n",
        "def calculate_total_expenditure(storage_months, fixed_storage_price, cost_injection, cost_withdrawal, amount_of_gas):\n",
        "    return (storage_months * fixed_storage_price) + (cost_injection + cost_withdrawal) * amount_of_gas\n",
        "\n",
        "def main():\n",
        "    file_path = \"1990-2021.csv\"\n",
        "    data = read_csv_data(file_path)\n",
        "\n",
        "    # User inputs\n",
        "    injection_month, injection_year = map(int, input(\"Enter the month and year of injection (MM YYYY): \").split())\n",
        "    withdrawal_month, withdrawal_year = map(int, input(\"Enter the month and year of withdrawal (MM YYYY): \").split())\n",
        "    cost_injection = float(input(\"Enter the cost of injection ($ per MMbtu): \"))\n",
        "    cost_withdrawal = float(input(\"Enter the cost of withdrawal ($ per MMbtu): \"))\n",
        "    fixed_storage_price = float(input(\"Enter the fixed storage price for every month: \"))\n",
        "    amount_of_gas = float(input(\"Enter the amount of gas being stored (MMbtu): \"))\n",
        "\n",
        "    date_of_injection = datetime(injection_year, injection_month, 1)\n",
        "    date_of_withdrawal = datetime(withdrawal_year, withdrawal_month, 1)\n",
        "\n",
        "    # Calculate storage months\n",
        "    storage_months = calculate_storage_months(date_of_injection, date_of_withdrawal)\n",
        "\n",
        "    # Calculate profit\n",
        "    total_expenditure = calculate_total_expenditure(storage_months, fixed_storage_price, cost_injection, cost_withdrawal, amount_of_gas)\n",
        "    contract_value = sum(data[date] for date in data if date_of_injection <= date <= date_of_withdrawal) * amount_of_gas\n",
        "    profit = contract_value - total_expenditure\n",
        "\n",
        "    print(f\"Total Expenditure on Storage: {total_expenditure}\")\n",
        "    print(f\"Profit from the Contract: {profit}\")\n",
        "    print(f\"Months: {storage_months}\")\n",
        "if __name__ == \"__main__\":\n",
        "    main()"
      ],
      "metadata": {
        "id": "AtrAusxCxvLb"
      },
      "execution_count": null,
      "outputs": []
    }
  ]
}